{
 "cells": [
  {
   "cell_type": "code",
   "id": "initial_id",
   "metadata": {
    "collapsed": true,
    "ExecuteTime": {
     "end_time": "2025-04-13T03:21:58.261866Z",
     "start_time": "2025-04-13T03:21:57.662548Z"
    }
   },
   "source": [
    "import json\n",
    "from datasets import load_dataset"
   ],
   "outputs": [
    {
     "name": "stderr",
     "output_type": "stream",
     "text": [
      "D:\\PyCharmProjects\\LLaMA-Factory\\venv\\Lib\\site-packages\\tqdm\\auto.py:21: TqdmWarning: IProgress not found. Please update jupyter and ipywidgets. See https://ipywidgets.readthedocs.io/en/stable/user_install.html\n",
      "  from .autonotebook import tqdm as notebook_tqdm\n"
     ]
    }
   ],
   "execution_count": 1
  },
  {
   "metadata": {},
   "cell_type": "markdown",
   "source": "# 1. Create inverse guanaco dataset",
   "id": "b314bfd5d9f7da29"
  },
  {
   "metadata": {
    "ExecuteTime": {
     "end_time": "2025-04-13T03:22:06.765516Z",
     "start_time": "2025-04-13T03:22:01.148063Z"
    }
   },
   "cell_type": "code",
   "source": [
    "hf_token = r\"hf_\"\n",
    "dataset = load_dataset('timdettmers/openassistant-guanaco', token=hf_token)\n",
    "dataset"
   ],
   "id": "86f1d9ed4b5b40ee",
   "outputs": [
    {
     "name": "stderr",
     "output_type": "stream",
     "text": [
      "Repo card metadata block was not found. Setting CardData to empty.\n"
     ]
    },
    {
     "data": {
      "text/plain": [
       "DatasetDict({\n",
       "    train: Dataset({\n",
       "        features: ['text'],\n",
       "        num_rows: 9846\n",
       "    })\n",
       "    test: Dataset({\n",
       "        features: ['text'],\n",
       "        num_rows: 518\n",
       "    })\n",
       "})"
      ]
     },
     "execution_count": 2,
     "metadata": {},
     "output_type": "execute_result"
    }
   ],
   "execution_count": 2
  },
  {
   "cell_type": "code",
   "id": "ba8f9d9b667c7901",
   "metadata": {
    "ExecuteTime": {
     "end_time": "2025-04-13T03:22:13.076516Z",
     "start_time": "2025-04-13T03:22:13.073276Z"
    }
   },
   "source": [
    "def parse_conversation(text_dict):\n",
    "    text = text_dict['text']\n",
    "    # Find the positions of the markers\n",
    "    human_start = text.find(\"### Human: \")\n",
    "    assistant_start = text.find(\"### Assistant: \")\n",
    "    next_human_start = text.find(\"### Human: \", assistant_start)\n",
    "    \n",
    "    # Extract the first human query\n",
    "    if next_human_start != -1:\n",
    "        human_text = text[human_start + len(\"### Human: \"):assistant_start].strip()\n",
    "    else:\n",
    "        human_text = text[human_start + len(\"### Human: \"):assistant_start].strip()\n",
    "    \n",
    "    # Extract the first assistant response\n",
    "    if next_human_start != -1:\n",
    "        assistant_text = text[assistant_start + len(\"### Assistant: \"):next_human_start].strip()\n",
    "    else:\n",
    "        assistant_text = text[assistant_start + len(\"### Assistant: \"):].strip()\n",
    "    \n",
    "    # Create and return the dictionary\n",
    "    return {\n",
    "        \"human\": human_text,\n",
    "        \"assistant\": assistant_text\n",
    "    }\n"
   ],
   "outputs": [],
   "execution_count": 3
  },
  {
   "cell_type": "code",
   "id": "6b4755f5c29095e8",
   "metadata": {
    "ExecuteTime": {
     "end_time": "2025-04-13T03:22:15.132429Z",
     "start_time": "2025-04-13T03:22:15.015275Z"
    }
   },
   "source": [
    "parsed_dataset = [parse_conversation(text) for text in dataset['train']]\n",
    "parsed_dataset[0]"
   ],
   "outputs": [
    {
     "data": {
      "text/plain": [
       "{'human': 'Can you write a short introduction about the relevance of the term \"monopsony\" in economics? Please use examples related to potential monopsonies in the labour market and cite relevant research.',\n",
       " 'assistant': '\"Monopsony\" refers to a market structure where there is only one buyer for a particular good or service. In economics, this term is particularly relevant in the labor market, where a monopsony employer has significant power over the wages and working conditions of their employees. The presence of a monopsony can result in lower wages and reduced employment opportunities for workers, as the employer has little incentive to increase wages or provide better working conditions.\\n\\nRecent research has identified potential monopsonies in industries such as retail and fast food, where a few large companies control a significant portion of the market (Bivens & Mishel, 2013). In these industries, workers often face low wages, limited benefits, and reduced bargaining power, leading to a situation where they are dependent on the employer for their livelihood. This dependence can result in further suppression of wages and a decline in working conditions.\\n\\nOverall, the concept of monopsony is essential to understanding the dynamics of labor markets and the impact of market power on workers. Further research is needed to understand the extent and impact of monopsonies on the economy and to develop policies to address this issue.\\n\\nReferences:\\nBivens, J., & Mishel, L. (2013). The Pay of Corporate Executives and Financial Professionals as Evidence of Rents in Top 1 Percent Incomes. Journal of Economic Perspectives, 27(3), 57-78.'}"
      ]
     },
     "execution_count": 4,
     "metadata": {},
     "output_type": "execute_result"
    }
   ],
   "execution_count": 4
  },
  {
   "cell_type": "code",
   "id": "ff1d6ce129e8846d",
   "metadata": {
    "ExecuteTime": {
     "end_time": "2025-04-13T03:22:17.731452Z",
     "start_time": "2025-04-13T03:22:17.723869Z"
    }
   },
   "source": [
    "instruction_data = []\n",
    "for sample in parsed_dataset:\n",
    "    instruction_data.append({\n",
    "        \"instruction\": \"Your task is to infer and generate the user’s original input question that could have led to the following Assistant response.\",\n",
    "        \"input\": sample[\"assistant\"],\n",
    "        \"output\": sample[\"human\"]\n",
    "    })\n",
    "instruction_data[0]"
   ],
   "outputs": [
    {
     "data": {
      "text/plain": [
       "{'instruction': 'Your task is to infer and generate the user’s original input question that could have led to the following Assistant response.',\n",
       " 'input': '\"Monopsony\" refers to a market structure where there is only one buyer for a particular good or service. In economics, this term is particularly relevant in the labor market, where a monopsony employer has significant power over the wages and working conditions of their employees. The presence of a monopsony can result in lower wages and reduced employment opportunities for workers, as the employer has little incentive to increase wages or provide better working conditions.\\n\\nRecent research has identified potential monopsonies in industries such as retail and fast food, where a few large companies control a significant portion of the market (Bivens & Mishel, 2013). In these industries, workers often face low wages, limited benefits, and reduced bargaining power, leading to a situation where they are dependent on the employer for their livelihood. This dependence can result in further suppression of wages and a decline in working conditions.\\n\\nOverall, the concept of monopsony is essential to understanding the dynamics of labor markets and the impact of market power on workers. Further research is needed to understand the extent and impact of monopsonies on the economy and to develop policies to address this issue.\\n\\nReferences:\\nBivens, J., & Mishel, L. (2013). The Pay of Corporate Executives and Financial Professionals as Evidence of Rents in Top 1 Percent Incomes. Journal of Economic Perspectives, 27(3), 57-78.',\n",
       " 'output': 'Can you write a short introduction about the relevance of the term \"monopsony\" in economics? Please use examples related to potential monopsonies in the labour market and cite relevant research.'}"
      ]
     },
     "execution_count": 5,
     "metadata": {},
     "output_type": "execute_result"
    }
   ],
   "execution_count": 5
  },
  {
   "cell_type": "code",
   "execution_count": 12,
   "id": "f9811cd07bfb482a",
   "metadata": {
    "ExecuteTime": {
     "end_time": "2025-04-12T03:29:38.756296Z",
     "start_time": "2025-04-12T03:29:38.649722Z"
    }
   },
   "outputs": [],
   "source": [
    "with open(\"data/guanaco_inverse.json\", \"w\") as f:\n",
    "    json.dump(instruction_data, f, indent=4)"
   ]
  },
  {
   "metadata": {},
   "cell_type": "markdown",
   "source": "# 2. Create Single turn LIMA dataset",
   "id": "f35169ab657b4027"
  },
  {
   "metadata": {
    "ExecuteTime": {
     "end_time": "2025-04-13T03:22:29.378314Z",
     "start_time": "2025-04-13T03:22:25.660361Z"
    }
   },
   "cell_type": "code",
   "source": [
    "dataset = load_dataset('GAIR/lima', token=hf_token)\n",
    "\n",
    "length_distribution = []\n",
    "for sample in dataset['train']:\n",
    "    conversation = sample['conversations']\n",
    "    length_distribution.append(len(conversation))\n",
    "    if len(conversation) > 2:\n",
    "        for l in conversation:\n",
    "            print(l)\n",
    "            print(\"*\" * 50)\n",
    "        break"
   ],
   "id": "8340f7f2718feaa8",
   "outputs": [
    {
     "name": "stdout",
     "output_type": "stream",
     "text": [
      "Most of the books I read give examples using <code>printf</code> and <code>scanf</code>. At some point the students know perfectly how to use these two functions but they don't know about <code>stdin</code>, <code>stdout</code> and <code>argv</code>. \n",
      "To me and according to many programming principles (e.g. KISS) a program should not interrupt the execution for prompting the user. Instead, and this is a much clever approach, the developer should learn to use the power of pipes and use the options and the arguments. \n",
      "I think this:\n",
      "<code>$ whatdaywas 1982 02 16\n",
      "Monday\n",
      "</code>\n",
      "Is much better than: \n",
      "<code>$ whatdaywas\n",
      "Enter a year: 1982\n",
      "Enter a month: 2\n",
      "Enter a day: 16\n",
      "It was a Monday.\n",
      "</code>\n",
      "Is there any rationale behind this pedagogical approach?\n",
      "**************************************************\n",
      "When tutoring young CS students, user input is actually a tricky concept. If it were not for user input, the results of any program could be pre-compiled into nothing but its output. You get one lesson from getting all the input right at the beginning, with argc/argv, but from that point on, its just the computer churning. You get a different lesson from getting input during the execution of the program.\n",
      "\n",
      "The idea of getting input from the user is surprisingly non-intuitive, given that nearly every program we interact with on a daily basis does it. This suggests that introducing it early helps prune misconceptions about how computers work before they become a real problem.\n",
      "\n",
      "Obviously not every student is the same, but a particular pattern is that they can understand what a program should do when it executes but not how that actually happens. They can look at\n",
      "<code>BOOL x = TRUE;\n",
      "if (x)\n",
      "    printf(\"Hello\\n\");\n",
      "else\n",
      "    printf(\"World\\n\");\n",
      "</code>\n",
      "And they can intuit that the program should print \"Hello\", but they can't intuit how a computer can possibly do so. Students are often told to figure the compiler does the \"magic,\" and figure out which printf to use (let's ignore optimizers for a moment).\n",
      "However, when the values come from input, you can no longer think about the computer as a magic device which reaches the final result immediately. You have to see that it is following steps. We know this, but it seems many students don't grasp this at first.\n",
      "If you have inputs coming from `argv`, its easier to keep this illusion going. If you have input during the program, after the program has already done something, you have to realize what's going on quicker.  In particular, it gets you closer to the point of realizing that the input the computer asks for may vary based on previous inputs (press 1 to calculate the area of a circle, press 2 to calculate the area of a rectangle.  Depending on the next scanf/gets, the computer will ask for one additional number or two).\n",
      "**************************************************\n",
      "Could you elaborate on the unintuitive bit?  I'm always on the lookout for new cognitive traps that I haven't noticed before.\n",
      "**************************************************\n",
      "It's found that some students learn the concept of functions before they grasp the idea of execution. They can wade their way through the code and make sense of it in their head, but they can't see that the computer wades through it also, in real time. Interestingly, the same people tend to assume that if they compile `if(x) f(); else g();`, that the compiler figures out which of those two branches will be taken, and only captures the instructions for that branch. They get bothered if the teacher constructs examples where it's hard to know which branch will be taken (such as when there is input).\n",
      "**************************************************\n"
     ]
    }
   ],
   "execution_count": 6
  },
  {
   "cell_type": "code",
   "id": "5e692b4b2e1ba5d1",
   "metadata": {
    "ExecuteTime": {
     "end_time": "2025-04-13T03:22:35.406328Z",
     "start_time": "2025-04-13T03:22:35.403839Z"
    }
   },
   "source": [
    "def convert_to_single_turn_conversations(dataset):\n",
    "    \"\"\"\n",
    "    Converts the dataset into a list of single-turn conversations.\n",
    "    \n",
    "    Args:\n",
    "        dataset: The dataset containing conversation samples\n",
    "        \n",
    "    Returns:\n",
    "        List of dictionaries, each with 'human' and 'assistant' keys\n",
    "    \"\"\"\n",
    "    single_turn_conversations = []\n",
    "    \n",
    "    # Iterate through the train split of the dataset\n",
    "    for sample in dataset['train']:\n",
    "        conversation = sample['conversations']\n",
    "        \n",
    "        # Check if this is a single-turn conversation (2 entries)\n",
    "        if len(conversation) == 2:\n",
    "            # First entry is human/user, second is assistant/model\n",
    "            single_turn_conversations.append({\n",
    "                \"human\": conversation[0],\n",
    "                \"assistant\": conversation[1]\n",
    "            })\n",
    "    \n",
    "    return single_turn_conversations"
   ],
   "outputs": [],
   "execution_count": 7
  },
  {
   "metadata": {},
   "cell_type": "code",
   "outputs": [],
   "execution_count": null,
   "source": [
    "single_turn_conversations = convert_to_single_turn_conversations(dataset)\n",
    "with open(\"data/lima_single_turn.json\", \"w\") as f:\n",
    "    json.dump(single_turn_conversations, f, indent=4)"
   ],
   "id": "4394f6ddc580413c"
  }
 ],
 "metadata": {
  "kernelspec": {
   "display_name": "Python 3",
   "language": "python",
   "name": "python3"
  },
  "language_info": {
   "codemirror_mode": {
    "name": "ipython",
    "version": 2
   },
   "file_extension": ".py",
   "mimetype": "text/x-python",
   "name": "python",
   "nbconvert_exporter": "python",
   "pygments_lexer": "ipython2",
   "version": "2.7.6"
  }
 },
 "nbformat": 4,
 "nbformat_minor": 5
}
